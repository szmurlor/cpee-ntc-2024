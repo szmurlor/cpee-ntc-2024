{
  "cells": [
    {
      "cell_type": "code",
      "execution_count": null,
      "metadata": {
        "colab": {
          "base_uri": "https://localhost:8080/"
        },
        "id": "DyP4sVht9A98",
        "outputId": "796aeae7-791e-4169-84bc-b7e8778cff71"
      },
      "outputs": [
        {
          "output_type": "stream",
          "name": "stdout",
          "text": [
            "Cloning into 'ET-BERT'...\n",
            "remote: Enumerating objects: 539, done.\u001b[K\n",
            "remote: Counting objects: 100% (228/228), done.\u001b[K\n",
            "remote: Compressing objects: 100% (99/99), done.\u001b[K\n",
            "remote: Total 539 (delta 191), reused 131 (delta 129), pack-reused 311\u001b[K\n",
            "Receiving objects: 100% (539/539), 10.83 MiB | 6.56 MiB/s, done.\n",
            "Resolving deltas: 100% (244/244), done.\n"
          ]
        }
      ],
      "source": [
        "!git clone https://github.com/linwhitehat/ET-BERT.git"
      ]
    },
    {
      "cell_type": "code",
      "execution_count": null,
      "metadata": {
        "colab": {
          "base_uri": "https://localhost:8080/",
          "height": 829
        },
        "id": "3rFO2LJJ9y9d",
        "outputId": "c8632505-8d8b-4562-e720-6cd628a67eee"
      },
      "outputs": [
        {
          "output_type": "stream",
          "name": "stdout",
          "text": [
            "Requirement already satisfied: torch>=1.0 in /usr/local/lib/python3.10/dist-packages (from -r ET-BERT/requirements.txt (line 1)) (2.2.1+cu121)\n",
            "Collecting argparse (from -r ET-BERT/requirements.txt (line 2))\n",
            "  Downloading argparse-1.4.0-py2.py3-none-any.whl (23 kB)\n",
            "Requirement already satisfied: six>=1.12.0 in /usr/local/lib/python3.10/dist-packages (from -r ET-BERT/requirements.txt (line 3)) (1.16.0)\n",
            "Requirement already satisfied: packaging in /usr/local/lib/python3.10/dist-packages (from -r ET-BERT/requirements.txt (line 4)) (24.0)\n",
            "Requirement already satisfied: filelock in /usr/local/lib/python3.10/dist-packages (from torch>=1.0->-r ET-BERT/requirements.txt (line 1)) (3.14.0)\n",
            "Requirement already satisfied: typing-extensions>=4.8.0 in /usr/local/lib/python3.10/dist-packages (from torch>=1.0->-r ET-BERT/requirements.txt (line 1)) (4.11.0)\n",
            "Requirement already satisfied: sympy in /usr/local/lib/python3.10/dist-packages (from torch>=1.0->-r ET-BERT/requirements.txt (line 1)) (1.12)\n",
            "Requirement already satisfied: networkx in /usr/local/lib/python3.10/dist-packages (from torch>=1.0->-r ET-BERT/requirements.txt (line 1)) (3.3)\n",
            "Requirement already satisfied: jinja2 in /usr/local/lib/python3.10/dist-packages (from torch>=1.0->-r ET-BERT/requirements.txt (line 1)) (3.1.4)\n",
            "Requirement already satisfied: fsspec in /usr/local/lib/python3.10/dist-packages (from torch>=1.0->-r ET-BERT/requirements.txt (line 1)) (2023.6.0)\n",
            "Collecting nvidia-cuda-nvrtc-cu12==12.1.105 (from torch>=1.0->-r ET-BERT/requirements.txt (line 1))\n",
            "  Using cached nvidia_cuda_nvrtc_cu12-12.1.105-py3-none-manylinux1_x86_64.whl (23.7 MB)\n",
            "Collecting nvidia-cuda-runtime-cu12==12.1.105 (from torch>=1.0->-r ET-BERT/requirements.txt (line 1))\n",
            "  Using cached nvidia_cuda_runtime_cu12-12.1.105-py3-none-manylinux1_x86_64.whl (823 kB)\n",
            "Collecting nvidia-cuda-cupti-cu12==12.1.105 (from torch>=1.0->-r ET-BERT/requirements.txt (line 1))\n",
            "  Using cached nvidia_cuda_cupti_cu12-12.1.105-py3-none-manylinux1_x86_64.whl (14.1 MB)\n",
            "Collecting nvidia-cudnn-cu12==8.9.2.26 (from torch>=1.0->-r ET-BERT/requirements.txt (line 1))\n",
            "  Using cached nvidia_cudnn_cu12-8.9.2.26-py3-none-manylinux1_x86_64.whl (731.7 MB)\n",
            "Collecting nvidia-cublas-cu12==12.1.3.1 (from torch>=1.0->-r ET-BERT/requirements.txt (line 1))\n",
            "  Using cached nvidia_cublas_cu12-12.1.3.1-py3-none-manylinux1_x86_64.whl (410.6 MB)\n",
            "Collecting nvidia-cufft-cu12==11.0.2.54 (from torch>=1.0->-r ET-BERT/requirements.txt (line 1))\n",
            "  Using cached nvidia_cufft_cu12-11.0.2.54-py3-none-manylinux1_x86_64.whl (121.6 MB)\n",
            "Collecting nvidia-curand-cu12==10.3.2.106 (from torch>=1.0->-r ET-BERT/requirements.txt (line 1))\n",
            "  Using cached nvidia_curand_cu12-10.3.2.106-py3-none-manylinux1_x86_64.whl (56.5 MB)\n",
            "Collecting nvidia-cusolver-cu12==11.4.5.107 (from torch>=1.0->-r ET-BERT/requirements.txt (line 1))\n",
            "  Using cached nvidia_cusolver_cu12-11.4.5.107-py3-none-manylinux1_x86_64.whl (124.2 MB)\n",
            "Collecting nvidia-cusparse-cu12==12.1.0.106 (from torch>=1.0->-r ET-BERT/requirements.txt (line 1))\n",
            "  Using cached nvidia_cusparse_cu12-12.1.0.106-py3-none-manylinux1_x86_64.whl (196.0 MB)\n",
            "Collecting nvidia-nccl-cu12==2.19.3 (from torch>=1.0->-r ET-BERT/requirements.txt (line 1))\n",
            "  Using cached nvidia_nccl_cu12-2.19.3-py3-none-manylinux1_x86_64.whl (166.0 MB)\n",
            "Collecting nvidia-nvtx-cu12==12.1.105 (from torch>=1.0->-r ET-BERT/requirements.txt (line 1))\n",
            "  Using cached nvidia_nvtx_cu12-12.1.105-py3-none-manylinux1_x86_64.whl (99 kB)\n",
            "Requirement already satisfied: triton==2.2.0 in /usr/local/lib/python3.10/dist-packages (from torch>=1.0->-r ET-BERT/requirements.txt (line 1)) (2.2.0)\n",
            "Collecting nvidia-nvjitlink-cu12 (from nvidia-cusolver-cu12==11.4.5.107->torch>=1.0->-r ET-BERT/requirements.txt (line 1))\n",
            "  Using cached nvidia_nvjitlink_cu12-12.4.127-py3-none-manylinux2014_x86_64.whl (21.1 MB)\n",
            "Requirement already satisfied: MarkupSafe>=2.0 in /usr/local/lib/python3.10/dist-packages (from jinja2->torch>=1.0->-r ET-BERT/requirements.txt (line 1)) (2.1.5)\n",
            "Requirement already satisfied: mpmath>=0.19 in /usr/local/lib/python3.10/dist-packages (from sympy->torch>=1.0->-r ET-BERT/requirements.txt (line 1)) (1.3.0)\n",
            "Installing collected packages: argparse, nvidia-nvtx-cu12, nvidia-nvjitlink-cu12, nvidia-nccl-cu12, nvidia-curand-cu12, nvidia-cufft-cu12, nvidia-cuda-runtime-cu12, nvidia-cuda-nvrtc-cu12, nvidia-cuda-cupti-cu12, nvidia-cublas-cu12, nvidia-cusparse-cu12, nvidia-cudnn-cu12, nvidia-cusolver-cu12\n",
            "Successfully installed argparse-1.4.0 nvidia-cublas-cu12-12.1.3.1 nvidia-cuda-cupti-cu12-12.1.105 nvidia-cuda-nvrtc-cu12-12.1.105 nvidia-cuda-runtime-cu12-12.1.105 nvidia-cudnn-cu12-8.9.2.26 nvidia-cufft-cu12-11.0.2.54 nvidia-curand-cu12-10.3.2.106 nvidia-cusolver-cu12-11.4.5.107 nvidia-cusparse-cu12-12.1.0.106 nvidia-nccl-cu12-2.19.3 nvidia-nvjitlink-cu12-12.4.127 nvidia-nvtx-cu12-12.1.105\n"
          ]
        },
        {
          "output_type": "display_data",
          "data": {
            "application/vnd.colab-display-data+json": {
              "pip_warning": {
                "packages": [
                  "argparse"
                ]
              },
              "id": "60389287e4fb4308b14c5a57f4de10a2"
            }
          },
          "metadata": {}
        }
      ],
      "source": [
        "!pip install -r ET-BERT/requirements.txt"
      ]
    },
    {
      "cell_type": "code",
      "execution_count": null,
      "metadata": {
        "id": "0W1Tt-ki-INW"
      },
      "outputs": [],
      "source": [
        "# we can skip this step because wa are usien fine tuned already model\n",
        "# !wget -O ET-BERT/models/pretrained_model.bin https://cloud.ee.pw.edu.pl/nextcloud/index.php/s/L4KGWRTSRqWWqHd/download/pretrained_model.bin"
      ]
    },
    {
      "cell_type": "code",
      "execution_count": null,
      "metadata": {
        "colab": {
          "base_uri": "https://localhost:8080/"
        },
        "id": "lOd_GZFPEMJZ",
        "outputId": "1752fed8-2637-4c64-d14d-47e81960c60c"
      },
      "outputs": [
        {
          "output_type": "stream",
          "name": "stdout",
          "text": [
            "/content\n",
            "--2024-05-21 13:37:27--  https://cloud.ee.pw.edu.pl/nextcloud/index.php/s/qBzzDKKFQ7J8geP/download/cstnet-tls1.3_flow.zip\n",
            "Resolving cloud.ee.pw.edu.pl (cloud.ee.pw.edu.pl)... 194.29.144.210\n",
            "Connecting to cloud.ee.pw.edu.pl (cloud.ee.pw.edu.pl)|194.29.144.210|:443... connected.\n",
            "HTTP request sent, awaiting response... 200 OK\n",
            "Length: 10759558 (10M) [application/zip]\n",
            "Saving to: ‘cstnet-tls1.3_flow.zip’\n",
            "\n",
            "cstnet-tls1.3_flow. 100%[===================>]  10.26M  4.78MB/s    in 2.1s    \n",
            "\n",
            "2024-05-21 13:37:31 (4.78 MB/s) - ‘cstnet-tls1.3_flow.zip’ saved [10759558/10759558]\n",
            "\n",
            "--2024-05-21 13:37:31--  https://cloud.ee.pw.edu.pl/nextcloud/index.php/s/DkpcREEpfiwCqKa/download/flow_dataset.zip\n",
            "Resolving cloud.ee.pw.edu.pl (cloud.ee.pw.edu.pl)... 194.29.144.210\n",
            "Connecting to cloud.ee.pw.edu.pl (cloud.ee.pw.edu.pl)|194.29.144.210|:443... connected.\n",
            "HTTP request sent, awaiting response... 200 OK\n",
            "Length: 35247437 (34M) [application/zip]\n",
            "Saving to: ‘flow_dataset.zip’\n",
            "\n",
            "flow_dataset.zip    100%[===================>]  33.61M  8.62MB/s    in 3.9s    \n",
            "\n",
            "2024-05-21 13:37:36 (8.62 MB/s) - ‘flow_dataset.zip’ saved [35247437/35247437]\n",
            "\n"
          ]
        }
      ],
      "source": [
        "# get the data\n",
        "\n",
        "%cd /content\n",
        "! wget -O cstnet-tls1.3_flow.zip https://cloud.ee.pw.edu.pl/nextcloud/index.php/s/qBzzDKKFQ7J8geP/download/cstnet-tls1.3_flow.zip\n",
        "! wget -O flow_dataset.zip https://cloud.ee.pw.edu.pl/nextcloud/index.php/s/DkpcREEpfiwCqKa/download/flow_dataset.zip"
      ]
    },
    {
      "cell_type": "code",
      "execution_count": null,
      "metadata": {
        "colab": {
          "base_uri": "https://localhost:8080/"
        },
        "id": "qx-vB5xTEjZS",
        "outputId": "3adbb8f0-0c83-45b2-ff22-24011079959a"
      },
      "outputs": [
        {
          "output_type": "stream",
          "name": "stdout",
          "text": [
            "/content/ET-BERT/datasets\n",
            "Archive:  /content/cstnet-tls1.3_flow.zip\n",
            "   creating: cstnet-tls1.3/\n",
            "  inflating: cstnet-tls1.3/nolabel_test_dataset.tsv  \n",
            "  inflating: cstnet-tls1.3/test_dataset.tsv  \n",
            "  inflating: cstnet-tls1.3/train_dataset.tsv  \n",
            "  inflating: cstnet-tls1.3/valid_dataset.tsv  \n"
          ]
        }
      ],
      "source": [
        "%cd /content/ET-BERT/datasets\n",
        "! unzip /content/cstnet-tls1.3_flow.zip"
      ]
    },
    {
      "cell_type": "code",
      "execution_count": null,
      "metadata": {
        "colab": {
          "base_uri": "https://localhost:8080/"
        },
        "id": "3MIP8gKN_pO5",
        "outputId": "d92a2755-bd49-4abd-826d-e4c3f1ab0bd0"
      },
      "outputs": [
        {
          "output_type": "stream",
          "name": "stdout",
          "text": [
            "/content/ET-BERT\n"
          ]
        }
      ],
      "source": [
        "%cd /content/ET-BERT"
      ]
    },
    {
      "cell_type": "code",
      "execution_count": null,
      "metadata": {
        "id": "LZnUtz6VACZD"
      },
      "outputs": [],
      "source": [
        "!cp fine-tuning/run_classifier.py ."
      ]
    },
    {
      "cell_type": "code",
      "execution_count": null,
      "metadata": {
        "colab": {
          "base_uri": "https://localhost:8080/"
        },
        "id": "dzq8RR2S_zrl",
        "outputId": "5b74dd3a-114c-4649-8e21-0dfc5a98d481"
      },
      "outputs": [
        {
          "output_type": "stream",
          "name": "stdout",
          "text": [
            "/env/python\n",
            "env: PYTHONPATH=\"/env/python:/content/ET-BERT:.:/content/ET-BERT/fine-tuning\"\n",
            "\"/env/python:/content/ET-BERT:.:/content/ET-BERT/fine-tuning\"\n"
          ]
        }
      ],
      "source": [
        "! echo $PYTHONPATH\n",
        "%env PYTHONPATH=\"/env/python:/content/ET-BERT:.:/content/ET-BERT/fine-tuning\"\n",
        "! echo $PYTHONPATH"
      ]
    },
    {
      "cell_type": "code",
      "execution_count": null,
      "metadata": {
        "colab": {
          "base_uri": "https://localhost:8080/"
        },
        "id": "7oN2pWEfFnWt",
        "outputId": "c09b2464-a7ca-4628-88ba-0bc47d871f0a"
      },
      "outputs": [
        {
          "output_type": "stream",
          "name": "stdout",
          "text": [
            "datasets/cstnet-tls1.3/train_dataset.tsv\n"
          ]
        }
      ],
      "source": [
        "!ls datasets/cstnet-tls1.3/train_dataset.tsv"
      ]
    },
    {
      "cell_type": "code",
      "execution_count": null,
      "metadata": {
        "colab": {
          "base_uri": "https://localhost:8080/"
        },
        "id": "BBUMr-Hd-i2e",
        "outputId": "0c00acbf-12ff-4bc9-ba09-9eaf1a99e17c",
        "collapsed": true
      },
      "outputs": [
        {
          "output_type": "stream",
          "name": "stdout",
          "text": [
            "/content/ET-BERT\n",
            "CPU times: user 787 µs, sys: 0 ns, total: 787 µs\n",
            "Wall time: 635 µs\n"
          ]
        }
      ],
      "source": [
        "# again we can skip this step\n",
        "%%time\n",
        "%cd /content/ET-BERT\n",
        "#!python3 fine-tuning/run_classifier.py --pretrained_model_path models/pretrained_model.bin \\\n",
        "#                                   --vocab_path models/encryptd_vocab.txt \\\n",
        "#                                   --train_path datasets/cstnet-tls1.3/train_dataset.tsv \\\n",
        "#                                   --dev_path datasets/cstnet-tls1.3/valid_dataset.tsv \\\n",
        "#                                   --test_path datasets/cstnet-tls1.3/test_dataset.tsv \\#\n",
        "#                                   --epochs_num 10 --batch_size 32 --embedding word_pos_seg \\\n",
        "#                                   --encoder transformer --mask fully_visible \\\n",
        "#                                   --seq_length 128 --learning_rate 2e-5"
      ]
    },
    {
      "cell_type": "code",
      "source": [
        "# let we get the fine tuned model\n",
        "\n",
        "!wget -O models/finetuned_model.bin https://cloud.ee.pw.edu.pl/nextcloud/index.php/s/6R8A9Nqwf8T2TRm/download/finetuned_model.bin"
      ],
      "metadata": {
        "colab": {
          "base_uri": "https://localhost:8080/"
        },
        "id": "ZcmPFoGxrRHF",
        "outputId": "96b005d2-f960-40fe-9a6f-85bd7c572fd0"
      },
      "execution_count": null,
      "outputs": [
        {
          "output_type": "stream",
          "name": "stdout",
          "text": [
            "--2024-05-21 13:38:04--  https://cloud.ee.pw.edu.pl/nextcloud/index.php/s/6R8A9Nqwf8T2TRm/download/finetuned_model.bin\n",
            "Resolving cloud.ee.pw.edu.pl (cloud.ee.pw.edu.pl)... 194.29.144.210\n",
            "Connecting to cloud.ee.pw.edu.pl (cloud.ee.pw.edu.pl)|194.29.144.210|:443... connected.\n",
            "HTTP request sent, awaiting response... 200 OK\n",
            "Length: 528954248 (504M) [application/x-bin]\n",
            "Saving to: ‘models/finetuned_model.bin’\n",
            "\n",
            "models/finetuned_mo 100%[===================>] 504.45M  16.2MB/s    in 34s     \n",
            "\n",
            "2024-05-21 13:38:39 (14.8 MB/s) - ‘models/finetuned_model.bin’ saved [528954248/528954248]\n",
            "\n"
          ]
        }
      ]
    },
    {
      "cell_type": "code",
      "execution_count": null,
      "metadata": {
        "colab": {
          "base_uri": "https://localhost:8080/"
        },
        "id": "0uxXw9ZqAk0x",
        "outputId": "686c8692-d413-489d-cdab-68deb3ac8686"
      },
      "outputs": [
        {
          "output_type": "stream",
          "name": "stdout",
          "text": [
            "The number of prediction instances:  4637\n",
            "CPU times: user 234 ms, sys: 51.4 ms, total: 285 ms\n",
            "Wall time: 55.8 s\n"
          ]
        }
      ],
      "source": [
        "%%time\n",
        "!python3 inference/run_classifier_infer.py --load_model_path models/finetuned_model.bin \\\n",
        "                                          --vocab_path models/encryptd_vocab.txt \\\n",
        "                                          --test_path datasets/cstnet-tls1.3/nolabel_test_dataset.tsv \\\n",
        "                                          --prediction_path datasets/cstnet-tls1.3/prediction.tsv \\\n",
        "                                          --labels_num 120 \\\n",
        "                                          --embedding word_pos_seg --encoder transformer --mask fully_visible\n"
      ]
    },
    {
      "cell_type": "code",
      "execution_count": null,
      "metadata": {
        "id": "Pl1z1kEjAlzJ",
        "colab": {
          "base_uri": "https://localhost:8080/",
          "height": 206
        },
        "outputId": "2f492862-c584-44ee-a1a1-19261d48c9be"
      },
      "outputs": [
        {
          "output_type": "execute_result",
          "data": {
            "text/plain": [
              "   label\n",
              "0     32\n",
              "1      5\n",
              "2    107\n",
              "3     75\n",
              "4     58"
            ],
            "text/html": [
              "\n",
              "  <div id=\"df-083d35b8-59ac-45ad-a2f6-21b5e4bb7b16\" class=\"colab-df-container\">\n",
              "    <div>\n",
              "<style scoped>\n",
              "    .dataframe tbody tr th:only-of-type {\n",
              "        vertical-align: middle;\n",
              "    }\n",
              "\n",
              "    .dataframe tbody tr th {\n",
              "        vertical-align: top;\n",
              "    }\n",
              "\n",
              "    .dataframe thead th {\n",
              "        text-align: right;\n",
              "    }\n",
              "</style>\n",
              "<table border=\"1\" class=\"dataframe\">\n",
              "  <thead>\n",
              "    <tr style=\"text-align: right;\">\n",
              "      <th></th>\n",
              "      <th>label</th>\n",
              "    </tr>\n",
              "  </thead>\n",
              "  <tbody>\n",
              "    <tr>\n",
              "      <th>0</th>\n",
              "      <td>32</td>\n",
              "    </tr>\n",
              "    <tr>\n",
              "      <th>1</th>\n",
              "      <td>5</td>\n",
              "    </tr>\n",
              "    <tr>\n",
              "      <th>2</th>\n",
              "      <td>107</td>\n",
              "    </tr>\n",
              "    <tr>\n",
              "      <th>3</th>\n",
              "      <td>75</td>\n",
              "    </tr>\n",
              "    <tr>\n",
              "      <th>4</th>\n",
              "      <td>58</td>\n",
              "    </tr>\n",
              "  </tbody>\n",
              "</table>\n",
              "</div>\n",
              "    <div class=\"colab-df-buttons\">\n",
              "\n",
              "  <div class=\"colab-df-container\">\n",
              "    <button class=\"colab-df-convert\" onclick=\"convertToInteractive('df-083d35b8-59ac-45ad-a2f6-21b5e4bb7b16')\"\n",
              "            title=\"Convert this dataframe to an interactive table.\"\n",
              "            style=\"display:none;\">\n",
              "\n",
              "  <svg xmlns=\"http://www.w3.org/2000/svg\" height=\"24px\" viewBox=\"0 -960 960 960\">\n",
              "    <path d=\"M120-120v-720h720v720H120Zm60-500h600v-160H180v160Zm220 220h160v-160H400v160Zm0 220h160v-160H400v160ZM180-400h160v-160H180v160Zm440 0h160v-160H620v160ZM180-180h160v-160H180v160Zm440 0h160v-160H620v160Z\"/>\n",
              "  </svg>\n",
              "    </button>\n",
              "\n",
              "  <style>\n",
              "    .colab-df-container {\n",
              "      display:flex;\n",
              "      gap: 12px;\n",
              "    }\n",
              "\n",
              "    .colab-df-convert {\n",
              "      background-color: #E8F0FE;\n",
              "      border: none;\n",
              "      border-radius: 50%;\n",
              "      cursor: pointer;\n",
              "      display: none;\n",
              "      fill: #1967D2;\n",
              "      height: 32px;\n",
              "      padding: 0 0 0 0;\n",
              "      width: 32px;\n",
              "    }\n",
              "\n",
              "    .colab-df-convert:hover {\n",
              "      background-color: #E2EBFA;\n",
              "      box-shadow: 0px 1px 2px rgba(60, 64, 67, 0.3), 0px 1px 3px 1px rgba(60, 64, 67, 0.15);\n",
              "      fill: #174EA6;\n",
              "    }\n",
              "\n",
              "    .colab-df-buttons div {\n",
              "      margin-bottom: 4px;\n",
              "    }\n",
              "\n",
              "    [theme=dark] .colab-df-convert {\n",
              "      background-color: #3B4455;\n",
              "      fill: #D2E3FC;\n",
              "    }\n",
              "\n",
              "    [theme=dark] .colab-df-convert:hover {\n",
              "      background-color: #434B5C;\n",
              "      box-shadow: 0px 1px 3px 1px rgba(0, 0, 0, 0.15);\n",
              "      filter: drop-shadow(0px 1px 2px rgba(0, 0, 0, 0.3));\n",
              "      fill: #FFFFFF;\n",
              "    }\n",
              "  </style>\n",
              "\n",
              "    <script>\n",
              "      const buttonEl =\n",
              "        document.querySelector('#df-083d35b8-59ac-45ad-a2f6-21b5e4bb7b16 button.colab-df-convert');\n",
              "      buttonEl.style.display =\n",
              "        google.colab.kernel.accessAllowed ? 'block' : 'none';\n",
              "\n",
              "      async function convertToInteractive(key) {\n",
              "        const element = document.querySelector('#df-083d35b8-59ac-45ad-a2f6-21b5e4bb7b16');\n",
              "        const dataTable =\n",
              "          await google.colab.kernel.invokeFunction('convertToInteractive',\n",
              "                                                    [key], {});\n",
              "        if (!dataTable) return;\n",
              "\n",
              "        const docLinkHtml = 'Like what you see? Visit the ' +\n",
              "          '<a target=\"_blank\" href=https://colab.research.google.com/notebooks/data_table.ipynb>data table notebook</a>'\n",
              "          + ' to learn more about interactive tables.';\n",
              "        element.innerHTML = '';\n",
              "        dataTable['output_type'] = 'display_data';\n",
              "        await google.colab.output.renderOutput(dataTable, element);\n",
              "        const docLink = document.createElement('div');\n",
              "        docLink.innerHTML = docLinkHtml;\n",
              "        element.appendChild(docLink);\n",
              "      }\n",
              "    </script>\n",
              "  </div>\n",
              "\n",
              "\n",
              "<div id=\"df-07921708-e1f2-4788-a109-cd9b03084ce5\">\n",
              "  <button class=\"colab-df-quickchart\" onclick=\"quickchart('df-07921708-e1f2-4788-a109-cd9b03084ce5')\"\n",
              "            title=\"Suggest charts\"\n",
              "            style=\"display:none;\">\n",
              "\n",
              "<svg xmlns=\"http://www.w3.org/2000/svg\" height=\"24px\"viewBox=\"0 0 24 24\"\n",
              "     width=\"24px\">\n",
              "    <g>\n",
              "        <path d=\"M19 3H5c-1.1 0-2 .9-2 2v14c0 1.1.9 2 2 2h14c1.1 0 2-.9 2-2V5c0-1.1-.9-2-2-2zM9 17H7v-7h2v7zm4 0h-2V7h2v10zm4 0h-2v-4h2v4z\"/>\n",
              "    </g>\n",
              "</svg>\n",
              "  </button>\n",
              "\n",
              "<style>\n",
              "  .colab-df-quickchart {\n",
              "      --bg-color: #E8F0FE;\n",
              "      --fill-color: #1967D2;\n",
              "      --hover-bg-color: #E2EBFA;\n",
              "      --hover-fill-color: #174EA6;\n",
              "      --disabled-fill-color: #AAA;\n",
              "      --disabled-bg-color: #DDD;\n",
              "  }\n",
              "\n",
              "  [theme=dark] .colab-df-quickchart {\n",
              "      --bg-color: #3B4455;\n",
              "      --fill-color: #D2E3FC;\n",
              "      --hover-bg-color: #434B5C;\n",
              "      --hover-fill-color: #FFFFFF;\n",
              "      --disabled-bg-color: #3B4455;\n",
              "      --disabled-fill-color: #666;\n",
              "  }\n",
              "\n",
              "  .colab-df-quickchart {\n",
              "    background-color: var(--bg-color);\n",
              "    border: none;\n",
              "    border-radius: 50%;\n",
              "    cursor: pointer;\n",
              "    display: none;\n",
              "    fill: var(--fill-color);\n",
              "    height: 32px;\n",
              "    padding: 0;\n",
              "    width: 32px;\n",
              "  }\n",
              "\n",
              "  .colab-df-quickchart:hover {\n",
              "    background-color: var(--hover-bg-color);\n",
              "    box-shadow: 0 1px 2px rgba(60, 64, 67, 0.3), 0 1px 3px 1px rgba(60, 64, 67, 0.15);\n",
              "    fill: var(--button-hover-fill-color);\n",
              "  }\n",
              "\n",
              "  .colab-df-quickchart-complete:disabled,\n",
              "  .colab-df-quickchart-complete:disabled:hover {\n",
              "    background-color: var(--disabled-bg-color);\n",
              "    fill: var(--disabled-fill-color);\n",
              "    box-shadow: none;\n",
              "  }\n",
              "\n",
              "  .colab-df-spinner {\n",
              "    border: 2px solid var(--fill-color);\n",
              "    border-color: transparent;\n",
              "    border-bottom-color: var(--fill-color);\n",
              "    animation:\n",
              "      spin 1s steps(1) infinite;\n",
              "  }\n",
              "\n",
              "  @keyframes spin {\n",
              "    0% {\n",
              "      border-color: transparent;\n",
              "      border-bottom-color: var(--fill-color);\n",
              "      border-left-color: var(--fill-color);\n",
              "    }\n",
              "    20% {\n",
              "      border-color: transparent;\n",
              "      border-left-color: var(--fill-color);\n",
              "      border-top-color: var(--fill-color);\n",
              "    }\n",
              "    30% {\n",
              "      border-color: transparent;\n",
              "      border-left-color: var(--fill-color);\n",
              "      border-top-color: var(--fill-color);\n",
              "      border-right-color: var(--fill-color);\n",
              "    }\n",
              "    40% {\n",
              "      border-color: transparent;\n",
              "      border-right-color: var(--fill-color);\n",
              "      border-top-color: var(--fill-color);\n",
              "    }\n",
              "    60% {\n",
              "      border-color: transparent;\n",
              "      border-right-color: var(--fill-color);\n",
              "    }\n",
              "    80% {\n",
              "      border-color: transparent;\n",
              "      border-right-color: var(--fill-color);\n",
              "      border-bottom-color: var(--fill-color);\n",
              "    }\n",
              "    90% {\n",
              "      border-color: transparent;\n",
              "      border-bottom-color: var(--fill-color);\n",
              "    }\n",
              "  }\n",
              "</style>\n",
              "\n",
              "  <script>\n",
              "    async function quickchart(key) {\n",
              "      const quickchartButtonEl =\n",
              "        document.querySelector('#' + key + ' button');\n",
              "      quickchartButtonEl.disabled = true;  // To prevent multiple clicks.\n",
              "      quickchartButtonEl.classList.add('colab-df-spinner');\n",
              "      try {\n",
              "        const charts = await google.colab.kernel.invokeFunction(\n",
              "            'suggestCharts', [key], {});\n",
              "      } catch (error) {\n",
              "        console.error('Error during call to suggestCharts:', error);\n",
              "      }\n",
              "      quickchartButtonEl.classList.remove('colab-df-spinner');\n",
              "      quickchartButtonEl.classList.add('colab-df-quickchart-complete');\n",
              "    }\n",
              "    (() => {\n",
              "      let quickchartButtonEl =\n",
              "        document.querySelector('#df-07921708-e1f2-4788-a109-cd9b03084ce5 button');\n",
              "      quickchartButtonEl.style.display =\n",
              "        google.colab.kernel.accessAllowed ? 'block' : 'none';\n",
              "    })();\n",
              "  </script>\n",
              "</div>\n",
              "    </div>\n",
              "  </div>\n"
            ],
            "application/vnd.google.colaboratory.intrinsic+json": {
              "type": "dataframe",
              "variable_name": "preds",
              "summary": "{\n  \"name\": \"preds\",\n  \"rows\": 4637,\n  \"fields\": [\n    {\n      \"column\": \"label\",\n      \"properties\": {\n        \"dtype\": \"number\",\n        \"std\": 34,\n        \"min\": 0,\n        \"max\": 119,\n        \"num_unique_values\": 120,\n        \"samples\": [\n          67,\n          21,\n          58\n        ],\n        \"semantic_type\": \"\",\n        \"description\": \"\"\n      }\n    }\n  ]\n}"
            }
          },
          "metadata": {},
          "execution_count": 10
        }
      ],
      "source": [
        "import pandas as pd\n",
        "preds = pd.read_csv('datasets/cstnet-tls1.3/prediction.tsv')\n",
        "preds.head()"
      ]
    },
    {
      "cell_type": "code",
      "source": [
        "target = pd.read_csv('datasets/cstnet-tls1.3/test_dataset.tsv', sep=\"\\t\")\n",
        "target.head()"
      ],
      "metadata": {
        "colab": {
          "base_uri": "https://localhost:8080/",
          "height": 206
        },
        "id": "Dy5OGefZnp-z",
        "outputId": "38e7d3bc-134c-400b-c614-a0bd42f553bb"
      },
      "execution_count": null,
      "outputs": [
        {
          "output_type": "execute_result",
          "data": {
            "text/plain": [
              "   label                                             text_a\n",
              "0     32  dcfe fe18 1834 34d5 d537 3738 38bc bc01 01a0 a...\n",
              "1      5  04d9 d9f5 f5d9 d968 6878 78dc dcfe fe18 1834 3...\n",
              "2    107  dcfe fe18 1834 34d5 d538 3838 38bc bc01 01a0 a...\n",
              "3     75  dcfe fe18 1834 34d5 d537 3738 38bc bc01 01a0 a...\n",
              "4     58  04d9 d9f5 f5d9 d968 6878 78dc dcfe fe18 1834 3..."
            ],
            "text/html": [
              "\n",
              "  <div id=\"df-3ce8d9f3-9068-49a6-ba9b-bf70830f5018\" class=\"colab-df-container\">\n",
              "    <div>\n",
              "<style scoped>\n",
              "    .dataframe tbody tr th:only-of-type {\n",
              "        vertical-align: middle;\n",
              "    }\n",
              "\n",
              "    .dataframe tbody tr th {\n",
              "        vertical-align: top;\n",
              "    }\n",
              "\n",
              "    .dataframe thead th {\n",
              "        text-align: right;\n",
              "    }\n",
              "</style>\n",
              "<table border=\"1\" class=\"dataframe\">\n",
              "  <thead>\n",
              "    <tr style=\"text-align: right;\">\n",
              "      <th></th>\n",
              "      <th>label</th>\n",
              "      <th>text_a</th>\n",
              "    </tr>\n",
              "  </thead>\n",
              "  <tbody>\n",
              "    <tr>\n",
              "      <th>0</th>\n",
              "      <td>32</td>\n",
              "      <td>dcfe fe18 1834 34d5 d537 3738 38bc bc01 01a0 a...</td>\n",
              "    </tr>\n",
              "    <tr>\n",
              "      <th>1</th>\n",
              "      <td>5</td>\n",
              "      <td>04d9 d9f5 f5d9 d968 6878 78dc dcfe fe18 1834 3...</td>\n",
              "    </tr>\n",
              "    <tr>\n",
              "      <th>2</th>\n",
              "      <td>107</td>\n",
              "      <td>dcfe fe18 1834 34d5 d538 3838 38bc bc01 01a0 a...</td>\n",
              "    </tr>\n",
              "    <tr>\n",
              "      <th>3</th>\n",
              "      <td>75</td>\n",
              "      <td>dcfe fe18 1834 34d5 d537 3738 38bc bc01 01a0 a...</td>\n",
              "    </tr>\n",
              "    <tr>\n",
              "      <th>4</th>\n",
              "      <td>58</td>\n",
              "      <td>04d9 d9f5 f5d9 d968 6878 78dc dcfe fe18 1834 3...</td>\n",
              "    </tr>\n",
              "  </tbody>\n",
              "</table>\n",
              "</div>\n",
              "    <div class=\"colab-df-buttons\">\n",
              "\n",
              "  <div class=\"colab-df-container\">\n",
              "    <button class=\"colab-df-convert\" onclick=\"convertToInteractive('df-3ce8d9f3-9068-49a6-ba9b-bf70830f5018')\"\n",
              "            title=\"Convert this dataframe to an interactive table.\"\n",
              "            style=\"display:none;\">\n",
              "\n",
              "  <svg xmlns=\"http://www.w3.org/2000/svg\" height=\"24px\" viewBox=\"0 -960 960 960\">\n",
              "    <path d=\"M120-120v-720h720v720H120Zm60-500h600v-160H180v160Zm220 220h160v-160H400v160Zm0 220h160v-160H400v160ZM180-400h160v-160H180v160Zm440 0h160v-160H620v160ZM180-180h160v-160H180v160Zm440 0h160v-160H620v160Z\"/>\n",
              "  </svg>\n",
              "    </button>\n",
              "\n",
              "  <style>\n",
              "    .colab-df-container {\n",
              "      display:flex;\n",
              "      gap: 12px;\n",
              "    }\n",
              "\n",
              "    .colab-df-convert {\n",
              "      background-color: #E8F0FE;\n",
              "      border: none;\n",
              "      border-radius: 50%;\n",
              "      cursor: pointer;\n",
              "      display: none;\n",
              "      fill: #1967D2;\n",
              "      height: 32px;\n",
              "      padding: 0 0 0 0;\n",
              "      width: 32px;\n",
              "    }\n",
              "\n",
              "    .colab-df-convert:hover {\n",
              "      background-color: #E2EBFA;\n",
              "      box-shadow: 0px 1px 2px rgba(60, 64, 67, 0.3), 0px 1px 3px 1px rgba(60, 64, 67, 0.15);\n",
              "      fill: #174EA6;\n",
              "    }\n",
              "\n",
              "    .colab-df-buttons div {\n",
              "      margin-bottom: 4px;\n",
              "    }\n",
              "\n",
              "    [theme=dark] .colab-df-convert {\n",
              "      background-color: #3B4455;\n",
              "      fill: #D2E3FC;\n",
              "    }\n",
              "\n",
              "    [theme=dark] .colab-df-convert:hover {\n",
              "      background-color: #434B5C;\n",
              "      box-shadow: 0px 1px 3px 1px rgba(0, 0, 0, 0.15);\n",
              "      filter: drop-shadow(0px 1px 2px rgba(0, 0, 0, 0.3));\n",
              "      fill: #FFFFFF;\n",
              "    }\n",
              "  </style>\n",
              "\n",
              "    <script>\n",
              "      const buttonEl =\n",
              "        document.querySelector('#df-3ce8d9f3-9068-49a6-ba9b-bf70830f5018 button.colab-df-convert');\n",
              "      buttonEl.style.display =\n",
              "        google.colab.kernel.accessAllowed ? 'block' : 'none';\n",
              "\n",
              "      async function convertToInteractive(key) {\n",
              "        const element = document.querySelector('#df-3ce8d9f3-9068-49a6-ba9b-bf70830f5018');\n",
              "        const dataTable =\n",
              "          await google.colab.kernel.invokeFunction('convertToInteractive',\n",
              "                                                    [key], {});\n",
              "        if (!dataTable) return;\n",
              "\n",
              "        const docLinkHtml = 'Like what you see? Visit the ' +\n",
              "          '<a target=\"_blank\" href=https://colab.research.google.com/notebooks/data_table.ipynb>data table notebook</a>'\n",
              "          + ' to learn more about interactive tables.';\n",
              "        element.innerHTML = '';\n",
              "        dataTable['output_type'] = 'display_data';\n",
              "        await google.colab.output.renderOutput(dataTable, element);\n",
              "        const docLink = document.createElement('div');\n",
              "        docLink.innerHTML = docLinkHtml;\n",
              "        element.appendChild(docLink);\n",
              "      }\n",
              "    </script>\n",
              "  </div>\n",
              "\n",
              "\n",
              "<div id=\"df-df36096f-e2e6-4829-9ab9-71db1d0b4d64\">\n",
              "  <button class=\"colab-df-quickchart\" onclick=\"quickchart('df-df36096f-e2e6-4829-9ab9-71db1d0b4d64')\"\n",
              "            title=\"Suggest charts\"\n",
              "            style=\"display:none;\">\n",
              "\n",
              "<svg xmlns=\"http://www.w3.org/2000/svg\" height=\"24px\"viewBox=\"0 0 24 24\"\n",
              "     width=\"24px\">\n",
              "    <g>\n",
              "        <path d=\"M19 3H5c-1.1 0-2 .9-2 2v14c0 1.1.9 2 2 2h14c1.1 0 2-.9 2-2V5c0-1.1-.9-2-2-2zM9 17H7v-7h2v7zm4 0h-2V7h2v10zm4 0h-2v-4h2v4z\"/>\n",
              "    </g>\n",
              "</svg>\n",
              "  </button>\n",
              "\n",
              "<style>\n",
              "  .colab-df-quickchart {\n",
              "      --bg-color: #E8F0FE;\n",
              "      --fill-color: #1967D2;\n",
              "      --hover-bg-color: #E2EBFA;\n",
              "      --hover-fill-color: #174EA6;\n",
              "      --disabled-fill-color: #AAA;\n",
              "      --disabled-bg-color: #DDD;\n",
              "  }\n",
              "\n",
              "  [theme=dark] .colab-df-quickchart {\n",
              "      --bg-color: #3B4455;\n",
              "      --fill-color: #D2E3FC;\n",
              "      --hover-bg-color: #434B5C;\n",
              "      --hover-fill-color: #FFFFFF;\n",
              "      --disabled-bg-color: #3B4455;\n",
              "      --disabled-fill-color: #666;\n",
              "  }\n",
              "\n",
              "  .colab-df-quickchart {\n",
              "    background-color: var(--bg-color);\n",
              "    border: none;\n",
              "    border-radius: 50%;\n",
              "    cursor: pointer;\n",
              "    display: none;\n",
              "    fill: var(--fill-color);\n",
              "    height: 32px;\n",
              "    padding: 0;\n",
              "    width: 32px;\n",
              "  }\n",
              "\n",
              "  .colab-df-quickchart:hover {\n",
              "    background-color: var(--hover-bg-color);\n",
              "    box-shadow: 0 1px 2px rgba(60, 64, 67, 0.3), 0 1px 3px 1px rgba(60, 64, 67, 0.15);\n",
              "    fill: var(--button-hover-fill-color);\n",
              "  }\n",
              "\n",
              "  .colab-df-quickchart-complete:disabled,\n",
              "  .colab-df-quickchart-complete:disabled:hover {\n",
              "    background-color: var(--disabled-bg-color);\n",
              "    fill: var(--disabled-fill-color);\n",
              "    box-shadow: none;\n",
              "  }\n",
              "\n",
              "  .colab-df-spinner {\n",
              "    border: 2px solid var(--fill-color);\n",
              "    border-color: transparent;\n",
              "    border-bottom-color: var(--fill-color);\n",
              "    animation:\n",
              "      spin 1s steps(1) infinite;\n",
              "  }\n",
              "\n",
              "  @keyframes spin {\n",
              "    0% {\n",
              "      border-color: transparent;\n",
              "      border-bottom-color: var(--fill-color);\n",
              "      border-left-color: var(--fill-color);\n",
              "    }\n",
              "    20% {\n",
              "      border-color: transparent;\n",
              "      border-left-color: var(--fill-color);\n",
              "      border-top-color: var(--fill-color);\n",
              "    }\n",
              "    30% {\n",
              "      border-color: transparent;\n",
              "      border-left-color: var(--fill-color);\n",
              "      border-top-color: var(--fill-color);\n",
              "      border-right-color: var(--fill-color);\n",
              "    }\n",
              "    40% {\n",
              "      border-color: transparent;\n",
              "      border-right-color: var(--fill-color);\n",
              "      border-top-color: var(--fill-color);\n",
              "    }\n",
              "    60% {\n",
              "      border-color: transparent;\n",
              "      border-right-color: var(--fill-color);\n",
              "    }\n",
              "    80% {\n",
              "      border-color: transparent;\n",
              "      border-right-color: var(--fill-color);\n",
              "      border-bottom-color: var(--fill-color);\n",
              "    }\n",
              "    90% {\n",
              "      border-color: transparent;\n",
              "      border-bottom-color: var(--fill-color);\n",
              "    }\n",
              "  }\n",
              "</style>\n",
              "\n",
              "  <script>\n",
              "    async function quickchart(key) {\n",
              "      const quickchartButtonEl =\n",
              "        document.querySelector('#' + key + ' button');\n",
              "      quickchartButtonEl.disabled = true;  // To prevent multiple clicks.\n",
              "      quickchartButtonEl.classList.add('colab-df-spinner');\n",
              "      try {\n",
              "        const charts = await google.colab.kernel.invokeFunction(\n",
              "            'suggestCharts', [key], {});\n",
              "      } catch (error) {\n",
              "        console.error('Error during call to suggestCharts:', error);\n",
              "      }\n",
              "      quickchartButtonEl.classList.remove('colab-df-spinner');\n",
              "      quickchartButtonEl.classList.add('colab-df-quickchart-complete');\n",
              "    }\n",
              "    (() => {\n",
              "      let quickchartButtonEl =\n",
              "        document.querySelector('#df-df36096f-e2e6-4829-9ab9-71db1d0b4d64 button');\n",
              "      quickchartButtonEl.style.display =\n",
              "        google.colab.kernel.accessAllowed ? 'block' : 'none';\n",
              "    })();\n",
              "  </script>\n",
              "</div>\n",
              "    </div>\n",
              "  </div>\n"
            ],
            "application/vnd.google.colaboratory.intrinsic+json": {
              "type": "dataframe",
              "variable_name": "target",
              "summary": "{\n  \"name\": \"target\",\n  \"rows\": 4637,\n  \"fields\": [\n    {\n      \"column\": \"label\",\n      \"properties\": {\n        \"dtype\": \"number\",\n        \"std\": 34,\n        \"min\": 0,\n        \"max\": 119,\n        \"num_unique_values\": 120,\n        \"samples\": [\n          4,\n          105,\n          58\n        ],\n        \"semantic_type\": \"\",\n        \"description\": \"\"\n      }\n    },\n    {\n      \"column\": \"text_a\",\n      \"properties\": {\n        \"dtype\": \"string\",\n        \"num_unique_values\": 4637,\n        \"samples\": [\n          \"dcfe fe18 1834 34d5 d539 3938 38bc bc01 01a0 a0bf bfa8 a808 0800 0045 4520 2001 011c 1cfd fd14 1400 0000 0035 3506 06cc cc16 16cb cb77 77af afc2 c296 96f2 f2a9 a964 6401 01bb bbf6 f6e4 e4ae ae48 48e8 e8dd dd30 3081 8179 7964 6450 5018 1800 003c 3cd9 d962 6200 0000 0016 1603 0303 0300 0080 8002 0200 0000 007c 7c03 0303 38bc bc01 01a0 a0bf bfa8 a8dc dcfe fe18 1834 34d5 d539 3908 0800 0045 4500 0002 027b 7b00 0000 0040 4000 003d 3d06 067f 7fec ec96 96f2 f2a9 a964 64cb cb77 77af afc2 c2f6 f6e4 e401 01bb bb30 3081 8177 7711 11ae ae48 48e8 e8dd dd50 5018 1808 0800 008b 8b49 4900 0000 0016 1603 0301 0102 024e 4e01 0100 0002 024a 4a03 0303 38bc bc01 01a0 a0bf bfa8 a8dc dcfe fe18 1834 34d5 d539 3908 0800 0045 4500 0000 0028 2800 0000 0040 4000 003d 3d06 0682 823f 3f96 96f2 f2a9 a964 64cb cb77 77af afc2 c2f6 f6e4 e401 01bb bb30 3081 8179 7964 64ae ae48 48e9 e9d1 d150 5010 1007 07fe feb1 b1a5 a500 0000 0000 0000 0020 2020 2020 2020 38bc bc01 01a0 a0bf bfa8 a8dc dcfe fe18 1834 34d5 d539 3908 0800 0045 4500 0000 0068 6800 0000 0040 4000 003d 3d06 0681 81ff ff96 96f2 f2a9 a964 64cb cb77 77af afc2 c2f6 f6e4 e401 01bb bb30 3081 8179 7964 64ae ae48 48e9 e9d1 d150 5018 1808 0800 00a1 a130 3000 0000 0014 1403 0303 0300 0001 0101 0117 1703 0303 0300 0035 38bc bc01 01a0 a0bf bfa8 a8dc dcfe fe18 1834 34d5 d539 3908 0800 0045 4500 0001 01c9 c900 0000 0040 4000 003d 3d06 0680 809e 9e96 96f2 f2a9 a964 64cb cb77 77af afc2 c2f6 f6e4 e401 01bb bb30 3081 8179 79a4 a4ae ae48 48e9 e9d1 d150 5018 1808 0800 00c2 c2d6 d600 0000 0017 1703 0303 0301 019c 9cd5 d51c 1c03 0322 22eb eba2\",\n          \"dcfe fe18 1834 34d5 d537 3738 38bc bc01 01a0 a0bf bfa8 a808 0800 0045 4574 7405 05dc dc4a 4ab3 b340 4000 002c 2c06 0612 127b 7b8a 8a44 4420 20e1 e196 96f2 f2a9 a962 6201 01bb bb8a 8af0 f0de dedb dbf4 f470 7044 44a5 a589 899a 9a80 8010 1001 01e7 e766 669f 9f00 0000 0001 0101 0108 080a 0a3a 3a77 7736 365d 5d43 43cf cf0f dcfe fe18 1834 34d5 d537 3738 38bc bc01 01a0 a0bf bfa8 a808 0800 0045 4574 7405 05dc dc4a 4ab4 b440 4000 002c 2c06 0612 127a 7a8a 8a44 4420 20e1 e196 96f2 f2a9 a962 6201 01bb bb8a 8af0 f0de dedb dbfa fa18 1844 44a5 a589 899a 9a80 8018 1801 01e7 e7e7 e75d 5d00 0000 0001 0101 0108 080a 0a3a 3a77 7736 365d 5d43 43cf cf0f dcfe fe18 1834 34d5 d537 3738 38bc bc01 01a0 a0bf bfa8 a808 0800 0045 4574 7402 0278 784a 4ab5 b540 4000 002c 2c06 0615 15dd dd8a 8a44 4420 20e1 e196 96f2 f2a9 a962 6201 01bb bb8a 8af0 f0de dedb dbff ffc0 c044 44a5 a589 899a 9a80 8018 1801 01e7 e7cd cd60 6000 0000 0001 0101 0108 080a 0a3a 3a77 7736 365d 5d43 43cf cf0f 38bc bc01 01a0 a0bf bfa8 a8dc dcfe fe18 1834 34d5 d537 3708 0800 0045 4500 0000 0034 3486 8668 6840 4000 003e 3e06 06ca cae1 e196 96f2 f2a9 a962 628a 8a44 4420 20e1 e18a 8af0 f001 01bb bb44 44a5 a589 899a 9ade dedb dbfa fa18 1880 8010 1000 00fb fb91 91d7 d700 0000 0001 0101 0108 080a 0a43 43cf cf0f 0fed ed3a 3a77 7736 38bc bc01 01a0 a0bf bfa8 a8dc dcfe fe18 1834 34d5 d537 3708 0800 0045 4500 0000 0034 3486 8669 6940 4000 003e 3e06 06ca cae0 e096 96f2 f2a9 a962 628a 8a44 4420 20e1 e18a 8af0 f001 01bb bb44 44a5 a589 899a 9ade dedb dbff ffc0 c080 8010 1001 0112 128c 8c18 1800 0000 0001 0101 0108 080a 0a43 43cf cf0f 0fed ed3a 3a77 7736\",\n          \"68f7 f728 28d0 d0e3 e34d 4ddc dcfe fe18 1834 34d5 d536 3608 0800 0045 4574 7405 05dc dc0e 0ea9 a940 4000 002f 2f06 06c4 c4fe fe79 791d 1d2e 2e6a 6aac ac10 101e 1e69 6901 01bb bbf7 f794 94af af7b 7b05 0553 53fb fb3f 3ffc fcc3 c350 5010 1000 00aa aaac ac5d 5d00 0000 0016 1603 0303 0300 007a 7a02 0200 0000 0076 7603 0303 68f7 f728 28d0 d0e3 e34d 4ddc dcfe fe18 1834 34d5 d536 3608 0800 0045 4574 7405 05dc dc0e 0eaa aa40 4000 002f 2f06 06c4 c4fd fd79 791d 1d2e 2e6a 6aac ac10 101e 1e69 6901 01bb bbf7 f794 94af af7b 7b0b 0b07 07fb fb3f 3ffc fcc3 c350 5010 1000 00aa aac7 c751 5100 0000 0065 650f 0f70 70c3 c3f7 f72f 2f50 50ce ce76 764c 4cc0 68f7 f728 28d0 d0e3 e34d 4ddc dcfe fe18 1834 34d5 d536 3608 0800 0045 4574 7402 0221 210e 0eab ab40 4000 002f 2f06 06c8 c8b7 b779 791d 1d2e 2e6a 6aac ac10 101e 1e69 6901 01bb bbf7 f794 94af af7b 7b10 10bb bbfb fb3f 3ffc fcc3 c350 5018 1800 00aa aa69 6997 9700 0000 0064 64f0 f063 6361 61b3 b36b 6bbe be44 4414 14f9 f913 dcfe fe18 1834 34d5 d536 3668 68f7 f728 28d0 d0e3 e34d 4d08 0800 0045 4500 0000 0028 2898 98b5 b540 4000 0040 4006 0630 301a 1aac ac10 101e 1e69 6979 791d 1d2e 2e6a 6af7 f794 9401 01bb bbfb fb3f 3ffc fcc3 c3af af7b 7b10 10bb bb50 5010 1004 0402 0288 8847 4700 0000 0000 0000 0000 0000 0000 0000 dcfe fe18 1834 34d5 d536 3668 68f7 f728 28d0 d0e3 e34d 4d08 0800 0045 4500 0000 0078 7898 98b6 b640 4000 0040 4006 062f 2fc9 c9ac ac10 101e 1e69 6979 791d 1d2e 2e6a 6af7 f794 9401 01bb bbfb fb3f 3ffc fcc3 c3af af7b 7b12 12b4 b450 5018 1804 0400 0064 6457 5700 0000 0014 1403 0303 0300 0001 0101 0117 1703 0303 0300 0045\"\n        ],\n        \"semantic_type\": \"\",\n        \"description\": \"\"\n      }\n    }\n  ]\n}"
            }
          },
          "metadata": {},
          "execution_count": 11
        }
      ]
    },
    {
      "cell_type": "code",
      "source": [
        "acc = (target.label == preds.label).sum() / target.shape[0] * 100\n",
        "acc"
      ],
      "metadata": {
        "colab": {
          "base_uri": "https://localhost:8080/"
        },
        "id": "3zMnxrVkn3Vz",
        "outputId": "607ffe8c-2b97-4d21-fe41-499010796678"
      },
      "execution_count": null,
      "outputs": [
        {
          "output_type": "execute_result",
          "data": {
            "text/plain": [
              "89.04464093163683"
            ]
          },
          "metadata": {},
          "execution_count": 12
        }
      ]
    },
    {
      "cell_type": "code",
      "source": [
        "# number of labels in the test dataset\n",
        "preds.nunique()"
      ],
      "metadata": {
        "colab": {
          "base_uri": "https://localhost:8080/"
        },
        "id": "WKKWoHzhoLbd",
        "outputId": "9bf752e0-c423-48e4-ff64-f3f78b23b612"
      },
      "execution_count": null,
      "outputs": [
        {
          "output_type": "execute_result",
          "data": {
            "text/plain": [
              "label    120\n",
              "dtype: int64"
            ]
          },
          "metadata": {},
          "execution_count": 13
        }
      ]
    }
  ],
  "metadata": {
    "accelerator": "GPU",
    "colab": {
      "gpuType": "T4",
      "machine_shape": "hm",
      "provenance": []
    },
    "kernelspec": {
      "display_name": "Python 3",
      "name": "python3"
    },
    "language_info": {
      "name": "python"
    }
  },
  "nbformat": 4,
  "nbformat_minor": 0
}